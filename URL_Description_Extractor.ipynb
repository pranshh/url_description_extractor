{
  "cells": [
    {
      "cell_type": "code",
      "execution_count": null,
      "metadata": {
        "id": "63p5UUreEaQN"
      },
      "outputs": [],
      "source": [
        "!pip install langchain\n",
        "!pip install langchain_core\n",
        "!pip install langchain_openai\n",
        "!pip install openai"
      ]
    },
    {
      "cell_type": "markdown",
      "metadata": {
        "id": "B3wmXNyGnoGO"
      },
      "source": [
        "# Crawling"
      ]
    },
    {
      "cell_type": "code",
      "execution_count": null,
      "metadata": {
        "id": "o8I6DgZmEjsp"
      },
      "outputs": [],
      "source": [
        "import requests\n",
        "from urllib.parse import urlparse, urljoin\n",
        "from bs4 import BeautifulSoup\n",
        "from langchain_openai import OpenAI\n",
        "from langchain_core.prompts import PromptTemplate"
      ]
    },
    {
      "cell_type": "code",
      "execution_count": null,
      "metadata": {
        "id": "naSkGdNHEouS"
      },
      "outputs": [],
      "source": [
        "def extract_website_info(url):\n",
        "    response = requests.get(url)\n",
        "\n",
        "    if response.status_code != 200:\n",
        "        return None\n",
        "\n",
        "    soup = BeautifulSoup(response.content, 'html.parser')\n",
        "\n",
        "    title = soup.find('title').text if soup.find('title') else 'No title found'\n",
        "    description_tag = soup.find('meta', attrs={'name': 'description'})\n",
        "    description = description_tag['content'] if description_tag else 'No description found'\n",
        "    domain = urlparse(url).netloc\n",
        "    links = [urljoin(url, a['href']) for a in soup.find_all('a', href=True)]\n",
        "\n",
        "    website_info = {\n",
        "        'title': title,\n",
        "        'description': description,\n",
        "        'domain': domain,\n",
        "        'links': links\n",
        "    }\n",
        "\n",
        "    return website_info"
      ]
    },
    {
      "cell_type": "code",
      "execution_count": null,
      "metadata": {
        "colab": {
          "base_uri": "https://localhost:8080/"
        },
        "id": "8lDJnsYQ0Afv",
        "outputId": "418af6c9-5c6a-49d7-b0f5-f8159f627687"
      },
      "outputs": [
        {
          "name": "stderr",
          "output_type": "stream",
          "text": [
            "/usr/local/lib/python3.10/dist-packages/langchain_core/_api/deprecation.py:117: LangChainDeprecationWarning: The class `langchain_community.chat_models.openai.ChatOpenAI` was deprecated in langchain-community 0.0.10 and will be removed in 0.2.0. An updated version of the class exists in the langchain-openai package and should be used instead. To use it run `pip install -U langchain-openai` and import as `from langchain_openai import ChatOpenAI`.\n",
            "  warn_deprecated(\n",
            "/usr/local/lib/python3.10/dist-packages/langchain_core/_api/deprecation.py:117: LangChainDeprecationWarning: The function `__call__` was deprecated in LangChain 0.1.7 and will be removed in 0.2.0. Use invoke instead.\n",
            "  warn_deprecated(\n"
          ]
        },
        {
          "name": "stdout",
          "output_type": "stream",
          "text": [
            "LLM Output: The website for boAt, a leading Earwear Audio Brand in India, offers an extensive collection of audio products and accessories that cater to various preferences and requirements. Here's a detailed description of what the website entails, which you can pass on to your support agent for a better understanding of what boAt has to offer:\n",
            "\n",
            "1. **Main Page and Promotions**: The main landing page (https://boat-lifestyle.com#main) introduces visitors to boAt's wide range of products. This page also highlights ongoing promotions such as 'boAthead Days' (https://www.boat-lifestyle.com/pages/boathead-days?utm_source=website&utm_medium=announcementbar&utm_campaign=homepage), a campaign offering deals and discounts on their products.\n",
            "\n",
            "2. **Product Categories**: boAt specializes in various audio products and accessories. Key categories include:\n",
            "\n",
            "   - **Earbuds**: True Wireless Earbuds are available at (https://boat-lifestyle.com/collections/true-wireless-earbuds), featuring a variety of designs and functionalities.\n",
            "   \n",
            "   - **Headphones and Earphones**: Both wireless and wired options are available. Wireless earphones (https://boat-lifestyle.com/collections/wireless-earphones) and headphones (https://boat-lifestyle.com/collections/bluetooth-wireless-headphones) cater to those looking for freedom from wires, while wired options (https://boat-lifestyle.com/collections/wired-headphones) offer classic connectivity.\n",
            "   \n",
            "   - **Speakers**: The collection includes portable wireless speakers (https://boat-lifestyle.com/collections/wireless-speakers) and home audio solutions (https://boat-lifestyle.com/collections/home-audio), suitable for a range of environments and uses.\n",
            "   \n",
            "   - **Smart Watches**: A variety of smartwatches (https://boat-lifestyle.com/collections/smart-watches) are offered, featuring different functionalities tailored to lifestyle needs.\n",
            "   \n",
            "   - **Gaming Accessories**: The 'Immortal Gaming' collection (https://boat-lifestyle.com/collections/immortal-gaming) includes gaming earbuds and headphones designed for an immersive gaming experience.\n",
            "\n",
            "3. **Personalization and Bulk Orders**: The website offers a product personalization option (https://www.boat-lifestyle.com/collections/product-personalization) for customers looking to add a personal touch to their purchases. For bulk orders, a dedicated page (https://boat-lifestyle.com/pages/bulk-orders) provides information on how to proceed with large quantity purchases.\n",
            "\n",
            "4. **Customer Support and Services**: The website includes various support options like a comprehensive FAQ section (https://boat-lifestyle.com/pages/frequently-asked-questions), details on return policies (https://boat-lifestyle.com/pages/return-policy), and a list of service centers (https://boat-lifestyle.com/pages/service-center-list). For direct inquiries, customers can contact support through WhatsApp (https://api.whatsapp.com/send?phone=919667700177&text=Hi).\n",
            "\n",
            "5. **Engagement and Community**: boAt actively engages with its community through blogs (https://boat-lifestyle.com/pages/boat-blogs), social responsibility initiatives (https://www.boat-lifestyle.com/pages/social-responsibility), and a 'Refer and Earn' program (https://www.boat-lifestyle.com/pages/refer-and-earn). The brand also maintains a strong presence on social media platforms including Facebook (https://www.facebook.com/boat.lifestyle), Twitter (https://twitter.com/RockWithboAt), Instagram (https://www.instagram.com/boat.nirvana/), YouTube (https://www.youtube.com/channel/UCY3JXaO_v8H3E6hTYUp5qWQ), and LinkedIn (https://www.linkedin.com/company/boat-lifestyle/).\n",
            "\n",
            "6. **Privacy and Terms**: For those concerned about privacy and terms of use, detailed documents are available at (https://boat-lifestyle.com/pages/privacy-policy) and (https://boat-lifestyle.com/pages/terms-of-use) respectively.\n",
            "\n",
            "This description covers the major aspects and offerings of the boAt website, from product categories to customer support and community engagement.\n"
          ]
        }
      ],
      "source": [
        "from langchain.chat_models import ChatOpenAI\n",
        "from langchain.prompts.chat import ChatPromptTemplate, HumanMessagePromptTemplate\n",
        "\n",
        "API_KEY = \"\"\n",
        "llm = ChatOpenAI(model_name=\"gpt-4-0125-preview\", openai_api_key=API_KEY, temperature=0.6)\n",
        "\n",
        "template = \"The website '{title}' has the description '{description}'. It contains the following links: {list_of_links}. Based on this, give a detailed description which I can pass on to my support agent. Also include links when you refer to them. Don't make it an email and don't include summary.\"\n",
        "\n",
        "human_message_prompt = HumanMessagePromptTemplate.from_template(template)\n",
        "\n",
        "prompt = ChatPromptTemplate.from_messages([human_message_prompt])\n",
        "\n",
        "url = 'https://boat-lifestyle.com'\n",
        "info = extract_website_info(url)\n",
        "final_prompt = prompt.format_prompt(title=info['title'], description=info['description'], list_of_links=', '.join(info['links']))\n",
        "llm_output = llm(final_prompt.to_messages())\n",
        "\n",
        "print(f\"LLM Output: {llm_output.content}\")"
      ]
    },
    {
      "cell_type": "code",
      "execution_count": null,
      "metadata": {
        "colab": {
          "base_uri": "https://localhost:8080/"
        },
        "id": "gDRuyTAE2sft",
        "outputId": "943bccad-5b39-4cc5-9724-92bc583cf896"
      },
      "outputs": [
        {
          "name": "stdout",
          "output_type": "stream",
          "text": [
            "LLM Output: RankItRight Media (RIRM) is a precision lead generation company that employs a white hat, ROI-driven SEO strategy. They boast an impressive clientele that includes notable names such as Hotstar, Mariott Hotels, FoodPanda Pak, and Bulldog Media. The company positions itself as one that delivers exceptional results by working with exceptional people, underlining the quality of both their team and the outcomes they aim to achieve for their clients.\n",
            "\n",
            "For those interested in learning more about RIRM or seeking to engage their services, the company's website offers a comprehensive overview, including a detailed description of their services, perspectives on SEO and lead generation, as well as insights into the company's ethos and operations. They also provide an opportunity for prospective clients to receive a free proposal, emphasizing their commitment to tailored, client-specific strategies.\n",
            "\n",
            "**Key Sections of the Website:**\n",
            "\n",
            "- **About Us:** This section [https://rirm.in/about/] offers a deeper insight into RIRM's mission, values, and the team behind their success. It's a good starting point for those looking to understand the company's foundation and approach to SEO and lead generation.\n",
            "\n",
            "- **Careers:** RIRM is in growth mode, actively seeking to expand its team. They have several open positions, indicating a thriving operation. Positions listed include Associate Analyst [https://rirm.in/associate-analyst/], Content Developer [https://rirm.in/content-developer/], and Graphic Designer [https://rirm.in/graphic-designer/]. This section [https://rirm.in/we-are-hiring/] is particularly useful for job seekers with a passion for SEO and digital marketing looking to join a dynamic team.\n",
            "\n",
            "- **Contact Us:** For direct inquiries, the Contact section [https://rirm.in/contact/] provides a straightforward way for prospective clients or interested parties to get in touch with RIRM. This could be to discuss potential projects, request a proposal, or seek answers to specific questions related to their services.\n",
            "\n",
            "- **Educational Content:** RIRM also contributes to the broader discourse on SEO through educational content. Articles such as \"Just How Fresh is Your Structured Data?\" [https://rirm.in/just-how-fresh-is-your-structured-data/] and \"The Google Medic Update: What You Need to Know\" [https://rirm.in/the-google-medic-update-what-you-need-to-know/] offer valuable insights and perspectives on current SEO trends and updates. Additionally, their piece on \"Five Questions to Ask Before Hiring an SEO Company\" [https://rirm.in/five-questions-to-ask-before-hiring-an-seo-company/] can serve as a useful guide for businesses navigating the SEO market.\n",
            "\n",
            "**Conclusion:**\n",
            "\n",
            "RankItRight Media presents itself as a forward-thinking, results-oriented SEO and lead generation firm with a proven track record. Their website serves as a comprehensive resource for understanding their services, the team's expertise, and also offers valuable educational content for those interested in the nuances of SEO and digital marketing. Whether you're a potential client looking to improve your online presence, a job seeker eager to join a vibrant team, or simply someone seeking to learn more about SEO, RIRM's website provides a wealth of information and opportunities to engage.\n"
          ]
        }
      ],
      "source": [
        "url = 'https://rirm.in'\n",
        "info = extract_website_info(url)\n",
        "final_prompt = prompt.format_prompt(title=info['title'], description=info['description'], list_of_links=', '.join(info['links']))\n",
        "llm_output = llm(final_prompt.to_messages())\n",
        "\n",
        "print(f\"LLM Output: {llm_output.content}\")"
      ]
    },
    {
      "cell_type": "code",
      "execution_count": null,
      "metadata": {
        "colab": {
          "base_uri": "https://localhost:8080/"
        },
        "id": "YwG_pCHjF8_I",
        "outputId": "4fa5f19b-7be1-4706-b925-933c3ee9118e"
      },
      "outputs": [
        {
          "name": "stdout",
          "output_type": "stream",
          "text": [
            "LLM Output: Sure, you can provide your support agent with the following detailed description of the Amazon.in online shopping site, including key features and direct links to various sections of the website for easy reference.\n",
            "\n",
            "Amazon.in is a comprehensive online shopping platform catering to the diverse needs of consumers in India. It offers a wide range of products including mobiles, laptops, cameras, books, watches, apparel, shoes, and e-Gift Cards. The platform emphasizes convenience with features such as free shipping and cash on delivery available for numerous items. Here's a breakdown of the main sections and services available on Amazon.in:\n",
            "\n",
            "1. **Main Page**: The homepage serves as the gateway to the entire range of products and services offered. It also features the Amazon logo which doubles as a link back to the main page for easy navigation. [Homepage](https://www.amazon.in/ref=nav_logo)\n",
            "\n",
            "2. **Language Preferences**: Shoppers can customize their language preferences through this link, ensuring a more personalized shopping experience. [Language Preferences](https://www.amazon.in/customer-preferences/edit?ie=UTF8&preferencesReturnUrl=%2F&ref_=topnav_lang)\n",
            "\n",
            "3. **Sign In**: Existing users can sign in to access their accounts, while new users can create an account to enjoy a personalized shopping experience. [Sign In](https://www.amazon.in/ap/signin?openid.pape.max_auth_age=0&openid.return_to=https%3A%2F%2Fwww.amazon.in%2F%3F_encoding%3DUTF8%26ref_%3Dnav_ya_signin&openid.identity=http%3A%2F%2Fspecs.openid.net%2Fauth%2F2.0%2Fidentifier_select&openid.assoc_handle=inflex&openid.mode=checkid_setup&openid.claimed_id=http%3A%2F%2Fspecs.openid.net%2Fauth%2F2.0%2Fidentifier_select&openid.ns=http%3A%2F%2Fspecs.openid.net%2Fauth%2F2.0)\n",
            "\n",
            "4. **Orders**: Users can review their past orders and track the status of their current orders through this section. [Your Orders](https://www.amazon.in/gp/css/order-history?ref_=nav_orders_first)\n",
            "\n",
            "5. **Cart**: Shoppers can view items they've added to their cart and proceed to checkout. [Cart](https://www.amazon.in/gp/cart/view.html?ref_=nav_cart)\n",
            "\n",
            "6. **Product Categories**: Amazon.in offers an extensive range of products across various categories. Here are some direct links to popular categories:\n",
            "    - Mobile Phones: [Mobiles](https://www.amazon.in/mobile-phones/b/?ie=UTF8&node=1389401031&ref_=nav_cs_mobiles)\n",
            "    - Electronics: [Electronics](https://www.amazon.in/electronics/b/?ie=UTF8&node=976419031&ref_=nav_cs_electronics)\n",
            "    - Home and Kitchen: [Home & Kitchen](https://www.amazon.in/Home-Kitchen/b/?ie=UTF8&node=976442031&ref_=nav_cs_home)\n",
            "    - Computers and Accessories: [Computers & Accessories](https://www.amazon.in/computers-and-accessories/b/?ie=UTF8&node=976392031&ref_=nav_cs_pc)\n",
            "    - Books: [Books](https://www.amazon.in/Books/b/?ie=UTF8&node=976389031&ref_=nav_cs_books)\n",
            "\n",
            "7. **Deals and Offers**: Shoppers looking for deals can find daily deals, lightning deals, and other special promotions. [Deals](https://www.amazon.in/deals?ref_=nav_cs_gb)\n",
            "\n",
            "8. **Amazon Prime**: Information about Amazon Prime membership benefits including faster shipping and exclusive access to deals. [Amazon Prime](https://www.amazon.in/prime?ref_=nav_cs_primelink_nonmember)\n",
            "\n",
            "9. **Customer Service**: Provides assistance with orders, returns, and other queries. [Customer Service](https://www.amazon.in/gp/help/customer/display.html?nodeId=200507590&ref_=nav_cs_help)\n",
            "\n",
            "10. **Amazon Pay**: A section dedicated to Amazon's payment service, offering a secure and quick way to make payments for purchases and utility bills. [Amazon Pay](https://www.amazon.in/gp/sva/dashboard?ref_=nav_cs_apay)\n",
            "\n",
            "For additional inquiries or specific needs, these sections can guide you or your agent through the vast offerings and services available on Amazon.in. This information should provide a comprehensive overview for efficient navigation and utilization of the platform.\n"
          ]
        }
      ],
      "source": [
        "url = 'https://www.amazon.in/'\n",
        "info = extract_website_info(url)\n",
        "final_prompt = prompt.format_prompt(title=info['title'], description=info['description'], list_of_links=', '.join(info['links']))\n",
        "llm_output = llm(final_prompt.to_messages())\n",
        "\n",
        "print(f\"LLM Output: {llm_output.content}\")"
      ]
    }
  ],
  "metadata": {
    "colab": {
      "provenance": []
    },
    "kernelspec": {
      "display_name": "Python 3",
      "name": "python3"
    },
    "language_info": {
      "name": "python"
    }
  },
  "nbformat": 4,
  "nbformat_minor": 0
}
